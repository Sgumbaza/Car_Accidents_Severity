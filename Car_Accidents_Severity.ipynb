{
 "cells": [
  {
   "cell_type": "markdown",
   "metadata": {
    "collapsed": true
   },
   "source": [
    "# Predicting the Different Car Accidents Severity in South Africa"
   ]
  },
  {
   "cell_type": "markdown",
   "metadata": {},
   "source": [
    "##### 1. Introduction\n"
   ]
  },
  {
   "cell_type": "markdown",
   "metadata": {},
   "source": [
    "_1.1 Background_"
   ]
  },
  {
   "cell_type": "markdown",
   "metadata": {},
   "source": [
    "The number of traffic crashes and their victims has been a rising trend globally due to increases in population and motorization. According to WHO (2020), every year the lives of approximately 1.35 million people are cut short because of a road traffic crash and between 20 and 50 million more people suffer non-fatal injuries, with many incurring a disability as a result of their injury. More than half of all road traffic deaths are among vulnerable road users: pedestrians, cyclists, and motorcyclists and on top of that 93% of those world's fatalities on the roads occur in low- and middle-income countries, even though these countries have approximately 60% of the world's vehicles. In particular, many young people are the most who are affected by traffic accidents, as most traffic accidents are caused by the 15–29 age group (Association for Safe International Road Travel Data). For this reason, this study will focus in one of the African countries “South Africa” to determine the severities of crashes in this country. The study will mainly focus in Johannesburg City to make the study much easier to read."
   ]
  },
  {
   "cell_type": "markdown",
   "metadata": {},
   "source": [
    "_1.2\tProblem_"
   ]
  },
  {
   "cell_type": "markdown",
   "metadata": {},
   "source": [
    "The dataset that will be used will consist of type of collusions, number of fatalities, severities, weather conditions, road geometry etc. The effort is to predict the different car accidents severity to be able to address the main factors that cause traffic accidents, such as speeding, distracted driving, driver fatigue, road conditions, use of mobile phones, and poor weather conditions to suggest ways of avoiding them in the roads. To achieve this, different statistical techniques will be applied to assist in predicting those car crash severities."
   ]
  },
  {
   "cell_type": "code",
   "execution_count": null,
   "metadata": {},
   "outputs": [],
   "source": []
  }
 ],
 "metadata": {
  "kernelspec": {
   "display_name": "Python 3.6",
   "language": "python",
   "name": "python3"
  },
  "language_info": {
   "codemirror_mode": {
    "name": "ipython",
    "version": 3
   },
   "file_extension": ".py",
   "mimetype": "text/x-python",
   "name": "python",
   "nbconvert_exporter": "python",
   "pygments_lexer": "ipython3",
   "version": "3.6.9"
  }
 },
 "nbformat": 4,
 "nbformat_minor": 1
}
